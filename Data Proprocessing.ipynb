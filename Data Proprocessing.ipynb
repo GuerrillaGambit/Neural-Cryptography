{
  "nbformat": 4,
  "nbformat_minor": 0,
  "metadata": {
    "colab": {
      "name": "Data Proprocessing.ipynb",
      "provenance": [],
      "collapsed_sections": []
    },
    "kernelspec": {
      "display_name": "Python 3",
      "name": "python3"
    }
  },
  "cells": [
    {
      "cell_type": "code",
      "metadata": {
        "id": "EcTl-VvEKW-S"
      },
      "source": [
        "import matplotlib.pyplot as plt\n",
        "import keras\n",
        "from keras.datasets import cifar100\n",
        "import cv2\n",
        "import numpy as np\n",
        "import pandas as pd\n",
        "from keras.losses import KLDivergence\n",
        "from keras.layers import Conv2D\n",
        "from keras.layers import Dense\n",
        "from keras.layers import Flatten\n",
        "from keras.layers import Reshape\n",
        "from keras.layers import Conv2DTranspose\n",
        "from keras.layers import MaxPooling2D\n",
        "from keras.layers import UpSampling2D\n",
        "from keras.layers import GlobalMaxPooling2D\n",
        "from keras.layers import Input\n",
        "from keras.optimizers import Adam\n",
        "from keras.models import Model"
      ],
      "execution_count": null,
      "outputs": []
    },
    {
      "cell_type": "code",
      "metadata": {
        "id": "crt7g0YtKdks"
      },
      "source": [
        "(X_train, y_train), (X_test, y_test) = cifar100.load_data(label_mode=\"fine\")"
      ],
      "execution_count": null,
      "outputs": []
    },
    {
      "cell_type": "code",
      "metadata": {
        "id": "eW1LsXFvMram",
        "outputId": "39a4f6dd-330d-44c8-8256-b4275112ec5c",
        "colab": {
          "base_uri": "https://localhost:8080/"
        }
      },
      "source": [
        "X_train.shape"
      ],
      "execution_count": null,
      "outputs": [
        {
          "output_type": "execute_result",
          "data": {
            "text/plain": [
              "(50000, 32, 32, 3)"
            ]
          },
          "metadata": {
            "tags": []
          },
          "execution_count": 174
        }
      ]
    },
    {
      "cell_type": "code",
      "metadata": {
        "id": "njFj3nBTLAHH",
        "outputId": "3b2481b1-fedc-4295-eab6-156cb5fabc7c",
        "colab": {
          "base_uri": "https://localhost:8080/",
          "height": 283
        }
      },
      "source": [
        "plt.imshow(X_train[0])"
      ],
      "execution_count": null,
      "outputs": [
        {
          "output_type": "execute_result",
          "data": {
            "text/plain": [
              "<matplotlib.image.AxesImage at 0x7f9b3039d160>"
            ]
          },
          "metadata": {
            "tags": []
          },
          "execution_count": 175
        },
        {
          "output_type": "display_data",
          "data": {
            "image/png": "[encoded data removed]",
            "text/plain": [
              "<Figure size 432x288 with 1 Axes>"
            ]
          },
          "metadata": {
            "tags": [],
            "needs_background": "light"
          }
        }
      ]
    },
    {
      "cell_type": "code",
      "metadata": {
        "id": "pao02vDJKjO0"
      },
      "source": [
        "for i in range(0,50000):\n",
        "    X_train[i] = cv2.cvtColor(X_train[i], cv2.COLOR_BGR2HSV)\n",
        "    #y_train[i] = cv2.cvtColor(y_train[i], cv2.COLOR_BGR2HSV)\n",
        "\n",
        "for j in range(0,10000):\n",
        "    X_test[j] = cv2.cvtColor(X_test[j], cv2.COLOR_BGR2HSV)\n",
        "    #y_test[j] = cv2.cvtColor(y_test[j], cv2.COLOR_BGR2HSV)"
      ],
      "execution_count": null,
      "outputs": []
    },
    {
      "cell_type": "code",
      "metadata": {
        "id": "OIsA80KOKIsI"
      },
      "source": [
        "X_train_hue = []\n",
        "X_test_hue = []\n",
        "X_train_value = []\n",
        "X_test_value = []\n",
        "X_train_saturation = []\n",
        "X_test_saturation = []"
      ],
      "execution_count": null,
      "outputs": []
    },
    {
      "cell_type": "code",
      "metadata": {
        "id": "7jolY7KuVbX2"
      },
      "source": [
        "for k in range(0,50000):\n",
        "  X_train_hue.append(X_train[k][...,0])\n",
        "  X_train_saturation.append(X_train[k][...,1])\n",
        "  X_train_value.append(X_train[k][...,2])\n",
        "\n",
        "for l in range(0,10000):\n",
        "  X_test_hue.append(X_test[l][...,0])\n",
        "  X_test_value.append(X_test[l][...,2])\n",
        "  X_test_saturation.append(X_test[l][...,1])"
      ],
      "execution_count": null,
      "outputs": []
    },
    {
      "cell_type": "code",
      "metadata": {
        "id": "9Y_BHEgRL9Ec",
        "outputId": "888748ac-80ee-4c5f-ba6e-c0a2592da2b5",
        "colab": {
          "base_uri": "https://localhost:8080/",
          "height": 283
        }
      },
      "source": [
        "plt.imshow(X_train_hue[0])"
      ],
      "execution_count": null,
      "outputs": [
        {
          "output_type": "execute_result",
          "data": {
            "text/plain": [
              "<matplotlib.image.AxesImage at 0x7f9b307d92b0>"
            ]
          },
          "metadata": {
            "tags": []
          },
          "execution_count": 179
        },
        {
          "output_type": "display_data",
          "data": {
            "image/png": "[encoded data removed]",
            "text/plain": [
              "<Figure size 432x288 with 1 Axes>"
            ]
          },
          "metadata": {
            "tags": [],
            "needs_background": "light"
          }
        }
      ]
    },
    {
      "cell_type": "code",
      "metadata": {
        "id": "8sAInDSWAKIq",
        "outputId": "8ac50c8b-7279-4ad0-aaaf-3b07c2f10a53",
        "colab": {
          "base_uri": "https://localhost:8080/",
          "height": 283
        }
      },
      "source": [
        "plt.imshow(X_train_value[0])"
      ],
      "execution_count": null,
      "outputs": [
        {
          "output_type": "execute_result",
          "data": {
            "text/plain": [
              "<matplotlib.image.AxesImage at 0x7f9b266999e8>"
            ]
          },
          "metadata": {
            "tags": []
          },
          "execution_count": 180
        },
        {
          "output_type": "display_data",
          "data": {
            "image/png": "[encoded data removed]",
            "text/plain": [
              "<Figure size 432x288 with 1 Axes>"
            ]
          },
          "metadata": {
            "tags": [],
            "needs_background": "light"
          }
        }
      ]
    },
    {
      "cell_type": "code",
      "metadata": {
        "id": "KXA2UreuNGt6"
      },
      "source": [
        "X_train_value = np.array(X_train_value)\n",
        "X_train_hue = np.array(X_train_hue)\n",
        "X_test_value = np.array(X_test_value)\n",
        "X_test_hue = np.array(X_test_hue)\n",
        "X_train_saturation = np.array(X_train_saturation)\n",
        "X_test_saturation = np.array(X_test_saturation)"
      ],
      "execution_count": null,
      "outputs": []
    },
    {
      "cell_type": "code",
      "metadata": {
        "id": "I6sAqykDPMfy",
        "outputId": "1e31ec88-87be-48e3-cbbf-843b31fb88f8",
        "colab": {
          "base_uri": "https://localhost:8080/"
        }
      },
      "source": [
        "X_train_value.reshape(50000, 32, 32, 1)\n",
        "X_train_hue.reshape(50000, 32, 32, 1)\n",
        "X_train_saturation.reshape(50000, 32, 32, 1)\n",
        "X_test_saturation.reshape(10000, 32, 32, 1)\n",
        "X_test_value.reshape(10000, 32, 32, 1)\n",
        "X_test_hue.reshape(10000, 32, 32, 1)"
      ],
      "execution_count": null,
      "outputs": [
        {
          "output_type": "execute_result",
          "data": {
            "text/plain": [
              "array([[[[ 10],\n",
              "         [  9],\n",
              "         [  9],\n",
              "         ...,\n",
              "         [ 13],\n",
              "         [ 13],\n",
              "         [ 11]],\n",
              "\n",
              "        [[  9],\n",
              "         [  9],\n",
              "         [ 10],\n",
              "         ...,\n",
              "         [ 19],\n",
              "         [ 18],\n",
              "         [ 10]],\n",
              "\n",
              "        [[  5],\n",
              "         [  7],\n",
              "         [  9],\n",
              "         ...,\n",
              "         [ 26],\n",
              "         [ 21],\n",
              "         [  0]],\n",
              "\n",
              "        ...,\n",
              "\n",
              "        [[  1],\n",
              "         [  3],\n",
              "         [  4],\n",
              "         ...,\n",
              "         [143],\n",
              "         [146],\n",
              "         [139]],\n",
              "\n",
              "        [[  3],\n",
              "         [  4],\n",
              "         [  4],\n",
              "         ...,\n",
              "         [144],\n",
              "         [158],\n",
              "         [157]],\n",
              "\n",
              "        [[  4],\n",
              "         [  5],\n",
              "         [  5],\n",
              "         ...,\n",
              "         [144],\n",
              "         [157],\n",
              "         [161]]],\n",
              "\n",
              "\n",
              "       [[[ 74],\n",
              "         [ 74],\n",
              "         [ 74],\n",
              "         ...,\n",
              "         [ 72],\n",
              "         [ 71],\n",
              "         [ 69]],\n",
              "\n",
              "        [[ 74],\n",
              "         [ 73],\n",
              "         [ 73],\n",
              "         ...,\n",
              "         [ 75],\n",
              "         [ 75],\n",
              "         [ 74]],\n",
              "\n",
              "        [[ 75],\n",
              "         [ 75],\n",
              "         [ 75],\n",
              "         ...,\n",
              "         [ 74],\n",
              "         [ 72],\n",
              "         [ 73]],\n",
              "\n",
              "        ...,\n",
              "\n",
              "        [[106],\n",
              "         [108],\n",
              "         [109],\n",
              "         ...,\n",
              "         [ 69],\n",
              "         [ 68],\n",
              "         [ 65]],\n",
              "\n",
              "        [[109],\n",
              "         [109],\n",
              "         [108],\n",
              "         ...,\n",
              "         [ 77],\n",
              "         [ 74],\n",
              "         [ 72]],\n",
              "\n",
              "        [[106],\n",
              "         [106],\n",
              "         [106],\n",
              "         ...,\n",
              "         [ 84],\n",
              "         [ 82],\n",
              "         [ 80]]],\n",
              "\n",
              "\n",
              "       [[[ 15],\n",
              "         [ 14],\n",
              "         [ 15],\n",
              "         ...,\n",
              "         [ 13],\n",
              "         [ 13],\n",
              "         [ 13]],\n",
              "\n",
              "        [[ 15],\n",
              "         [ 15],\n",
              "         [ 15],\n",
              "         ...,\n",
              "         [ 11],\n",
              "         [ 12],\n",
              "         [ 12]],\n",
              "\n",
              "        [[ 15],\n",
              "         [ 15],\n",
              "         [ 15],\n",
              "         ...,\n",
              "         [ 11],\n",
              "         [ 10],\n",
              "         [ 11]],\n",
              "\n",
              "        ...,\n",
              "\n",
              "        [[ 30],\n",
              "         [ 98],\n",
              "         [ 94],\n",
              "         ...,\n",
              "         [115],\n",
              "         [113],\n",
              "         [111]],\n",
              "\n",
              "        [[103],\n",
              "         [102],\n",
              "         [ 93],\n",
              "         ...,\n",
              "         [117],\n",
              "         [115],\n",
              "         [112]],\n",
              "\n",
              "        [[103],\n",
              "         [ 99],\n",
              "         [ 92],\n",
              "         ...,\n",
              "         [118],\n",
              "         [117],\n",
              "         [114]]],\n",
              "\n",
              "\n",
              "       ...,\n",
              "\n",
              "\n",
              "       [[[ 45],\n",
              "         [ 47],\n",
              "         [ 45],\n",
              "         ...,\n",
              "         [ 68],\n",
              "         [ 48],\n",
              "         [ 39]],\n",
              "\n",
              "        [[ 39],\n",
              "         [ 48],\n",
              "         [ 52],\n",
              "         ...,\n",
              "         [ 20],\n",
              "         [ 20],\n",
              "         [ 49]],\n",
              "\n",
              "        [[ 50],\n",
              "         [ 54],\n",
              "         [ 56],\n",
              "         ...,\n",
              "         [ 49],\n",
              "         [ 15],\n",
              "         [ 51]],\n",
              "\n",
              "        ...,\n",
              "\n",
              "        [[ 67],\n",
              "         [ 69],\n",
              "         [ 69],\n",
              "         ...,\n",
              "         [ 64],\n",
              "         [ 59],\n",
              "         [ 61]],\n",
              "\n",
              "        [[ 64],\n",
              "         [ 69],\n",
              "         [ 69],\n",
              "         ...,\n",
              "         [ 66],\n",
              "         [ 64],\n",
              "         [ 64]],\n",
              "\n",
              "        [[ 68],\n",
              "         [ 69],\n",
              "         [ 70],\n",
              "         ...,\n",
              "         [ 68],\n",
              "         [ 68],\n",
              "         [ 65]]],\n",
              "\n",
              "\n",
              "       [[[ 78],\n",
              "         [ 95],\n",
              "         [103],\n",
              "         ...,\n",
              "         [107],\n",
              "         [109],\n",
              "         [110]],\n",
              "\n",
              "        [[ 70],\n",
              "         [ 80],\n",
              "         [  0],\n",
              "         ...,\n",
              "         [109],\n",
              "         [108],\n",
              "         [110]],\n",
              "\n",
              "        [[ 80],\n",
              "         [ 45],\n",
              "         [  0],\n",
              "         ...,\n",
              "         [107],\n",
              "         [108],\n",
              "         [105]],\n",
              "\n",
              "        ...,\n",
              "\n",
              "        [[ 90],\n",
              "         [ 99],\n",
              "         [100],\n",
              "         ...,\n",
              "         [ 90],\n",
              "         [ 99],\n",
              "         [ 60]],\n",
              "\n",
              "        [[ 97],\n",
              "         [ 99],\n",
              "         [ 97],\n",
              "         ...,\n",
              "         [ 95],\n",
              "         [ 98],\n",
              "         [ 94]],\n",
              "\n",
              "        [[ 96],\n",
              "         [ 99],\n",
              "         [ 94],\n",
              "         ...,\n",
              "         [ 99],\n",
              "         [101],\n",
              "         [ 98]]],\n",
              "\n",
              "\n",
              "       [[[ 90],\n",
              "         [ 98],\n",
              "         [ 94],\n",
              "         ...,\n",
              "         [122],\n",
              "         [122],\n",
              "         [121]],\n",
              "\n",
              "        [[101],\n",
              "         [ 97],\n",
              "         [ 98],\n",
              "         ...,\n",
              "         [121],\n",
              "         [122],\n",
              "         [121]],\n",
              "\n",
              "        [[ 99],\n",
              "         [102],\n",
              "         [105],\n",
              "         ...,\n",
              "         [121],\n",
              "         [122],\n",
              "         [122]],\n",
              "\n",
              "        ...,\n",
              "\n",
              "        [[101],\n",
              "         [ 90],\n",
              "         [ 93],\n",
              "         ...,\n",
              "         [ 76],\n",
              "         [ 76],\n",
              "         [ 76]],\n",
              "\n",
              "        [[ 99],\n",
              "         [ 88],\n",
              "         [ 90],\n",
              "         ...,\n",
              "         [ 75],\n",
              "         [ 75],\n",
              "         [ 76]],\n",
              "\n",
              "        [[100],\n",
              "         [ 97],\n",
              "         [ 98],\n",
              "         ...,\n",
              "         [ 73],\n",
              "         [ 72],\n",
              "         [ 73]]]], dtype=uint8)"
            ]
          },
          "metadata": {
            "tags": []
          },
          "execution_count": 182
        }
      ]
    },
    {
      "cell_type": "code",
      "metadata": {
        "id": "EX7XF2G-UTtX"
      },
      "source": [
        "encoder_input = Input(shape=(32, 32, 1))\n",
        "x = Conv2D(32, (3,3), activation=\"relu\", padding='same')(encoder_input)\n",
        "x = MaxPooling2D()(x)\n",
        "x = Conv2D(16, (3,3), activation=\"relu\", padding='same')(x)\n",
        "x = MaxPooling2D()(x)"
      ],
      "execution_count": null,
      "outputs": []
    },
    {
      "cell_type": "code",
      "metadata": {
        "id": "7HxieY2GUwpA"
      },
      "source": [
        "shape = x.shape"
      ],
      "execution_count": null,
      "outputs": []
    },
    {
      "cell_type": "code",
      "metadata": {
        "id": "gHZsjDUmUzaa"
      },
      "source": [
        "x = Flatten()(x)\n",
        "encoder_output = Dense(16, activation=\"relu\")(x)"
      ],
      "execution_count": null,
      "outputs": []
    },
    {
      "cell_type": "code",
      "metadata": {
        "id": "RHJb0uh4VI2Y",
        "outputId": "c33de844-35da-46e3-d0ac-adfec70bee89",
        "colab": {
          "base_uri": "https://localhost:8080/"
        }
      },
      "source": [
        "encoder = Model(encoder_input,encoder_output, name=\"encoder\")\n",
        "encoder.summary()"
      ],
      "execution_count": null,
      "outputs": [
        {
          "output_type": "stream",
          "text": [
            "Model: \"encoder\"\n",
            "_________________________________________________________________\n",
            "Layer (type)                 Output Shape              Param #   \n",
            "=================================================================\n",
            "input_18 (InputLayer)        [(None, 32, 32, 1)]       0         \n",
            "_________________________________________________________________\n",
            "conv2d_10 (Conv2D)           (None, 32, 32, 32)        320       \n",
            "_________________________________________________________________\n",
            "max_pooling2d_10 (MaxPooling (None, 16, 16, 32)        0         \n",
            "_________________________________________________________________\n",
            "conv2d_11 (Conv2D)           (None, 16, 16, 16)        4624      \n",
            "_________________________________________________________________\n",
            "max_pooling2d_11 (MaxPooling (None, 8, 8, 16)          0         \n",
            "_________________________________________________________________\n",
            "flatten_5 (Flatten)          (None, 1024)              0         \n",
            "_________________________________________________________________\n",
            "dense_11 (Dense)             (None, 16)                16400     \n",
            "=================================================================\n",
            "Total params: 21,344\n",
            "Trainable params: 21,344\n",
            "Non-trainable params: 0\n",
            "_________________________________________________________________\n"
          ],
          "name": "stdout"
        }
      ]
    },
    {
      "cell_type": "code",
      "metadata": {
        "id": "C0CDzNS3VWVb"
      },
      "source": [
        "decoder_input = Input(shape=(16,))\n",
        "x = Dense(shape[1]*shape[2]*shape[3])(decoder_input)\n",
        "x = Reshape((shape[1], shape[2], shape[3]))(x)\n",
        "x = UpSampling2D()(x)\n",
        "x = Conv2DTranspose(16, (3,3), activation=\"relu\", padding=\"same\")(x)\n",
        "x = UpSampling2D()(x)\n",
        "x = Conv2DTranspose(32, (3,3), activation=\"relu\", padding=\"same\")(x)\n",
        "# x = Conv2DTranspose(16, 3, activation=\"relu\")(x)\n",
        "decoder_output = Conv2DTranspose(1, 3, activation=\"sigmoid\", padding='same')(x)"
      ],
      "execution_count": null,
      "outputs": []
    },
    {
      "cell_type": "code",
      "metadata": {
        "id": "OxhJVBjPVdjH",
        "outputId": "cbb216a3-49dc-4157-9627-89ce4ec5c795",
        "colab": {
          "base_uri": "https://localhost:8080/"
        }
      },
      "source": [
        "decoder_output.shape"
      ],
      "execution_count": null,
      "outputs": [
        {
          "output_type": "execute_result",
          "data": {
            "text/plain": [
              "TensorShape([None, 32, 32, 1])"
            ]
          },
          "metadata": {
            "tags": []
          },
          "execution_count": 188
        }
      ]
    },
    {
      "cell_type": "code",
      "metadata": {
        "id": "gJR8RKImVgu3",
        "outputId": "f7405625-0d66-4e81-e395-6520c785225c",
        "colab": {
          "base_uri": "https://localhost:8080/"
        }
      },
      "source": [
        "decoder = Model(decoder_input, decoder_output, name=\"decoder\")\n",
        "decoder.summary()"
      ],
      "execution_count": null,
      "outputs": [
        {
          "output_type": "stream",
          "text": [
            "Model: \"decoder\"\n",
            "_________________________________________________________________\n",
            "Layer (type)                 Output Shape              Param #   \n",
            "=================================================================\n",
            "input_19 (InputLayer)        [(None, 16)]              0         \n",
            "_________________________________________________________________\n",
            "dense_12 (Dense)             (None, 1024)              17408     \n",
            "_________________________________________________________________\n",
            "reshape_6 (Reshape)          (None, 8, 8, 16)          0         \n",
            "_________________________________________________________________\n",
            "up_sampling2d_12 (UpSampling (None, 16, 16, 16)        0         \n",
            "_________________________________________________________________\n",
            "conv2d_transpose_18 (Conv2DT (None, 16, 16, 16)        2320      \n",
            "_________________________________________________________________\n",
            "up_sampling2d_13 (UpSampling (None, 32, 32, 16)        0         \n",
            "_________________________________________________________________\n",
            "conv2d_transpose_19 (Conv2DT (None, 32, 32, 32)        4640      \n",
            "_________________________________________________________________\n",
            "conv2d_transpose_20 (Conv2DT (None, 32, 32, 1)         289       \n",
            "=================================================================\n",
            "Total params: 24,657\n",
            "Trainable params: 24,657\n",
            "Non-trainable params: 0\n",
            "_________________________________________________________________\n"
          ],
          "name": "stdout"
        }
      ]
    },
    {
      "cell_type": "code",
      "metadata": {
        "id": "oM4t61lfV1qJ",
        "outputId": "c40aca58-b53f-4539-90fe-c8b1b49af862",
        "colab": {
          "base_uri": "https://localhost:8080/"
        }
      },
      "source": [
        "autoencoder_input = Input(shape=(32, 32, 1))\n",
        "encoded_img = encoder(autoencoder_input)\n",
        "decoded_img = decoder(encoded_img)\n",
        "autoencoder = Model(autoencoder_input, decoded_img, name=\"autoencoder\")\n",
        "autoencoder.summary()"
      ],
      "execution_count": null,
      "outputs": [
        {
          "output_type": "stream",
          "text": [
            "Model: \"autoencoder\"\n",
            "_________________________________________________________________\n",
            "Layer (type)                 Output Shape              Param #   \n",
            "=================================================================\n",
            "input_20 (InputLayer)        [(None, 32, 32, 1)]       0         \n",
            "_________________________________________________________________\n",
            "encoder (Functional)         (None, 16)                21344     \n",
            "_________________________________________________________________\n",
            "decoder (Functional)         (None, 32, 32, 1)         24657     \n",
            "=================================================================\n",
            "Total params: 46,001\n",
            "Trainable params: 46,001\n",
            "Non-trainable params: 0\n",
            "_________________________________________________________________\n"
          ],
          "name": "stdout"
        }
      ]
    },
    {
      "cell_type": "code",
      "metadata": {
        "id": "Z9R7yYHIWMuY"
      },
      "source": [
        "autoencoder.compile(loss = 'mae', optimizer = 'Adam', metrics=[\"accuracy\"])"
      ],
      "execution_count": null,
      "outputs": []
    },
    {
      "cell_type": "code",
      "metadata": {
        "id": "K7Wjvr02WOwH"
      },
      "source": [
        "# X_train_hue = X_train_hue.astype('float32')/360\n",
        "# X_test_hue = X_test_hue.astype('float32')/360\n",
        "# X_train_value = X_train_value.astype('float32')/100\n",
        "# X_test_value = X_test_value.astype('float32')/100"
      ],
      "execution_count": null,
      "outputs": []
    },
    {
      "cell_type": "code",
      "metadata": {
        "id": "kKFq1VMIXyIS",
        "outputId": "583222ca-c2e9-4a72-eb2b-c59321c1f42f",
        "colab": {
          "base_uri": "https://localhost:8080/"
        }
      },
      "source": [
        "autoencoder.fit(X_train_hue, X_train_hue, validation_data=(X_test_hue, X_test_hue), epochs = 1, batch_size = 32)"
      ],
      "execution_count": null,
      "outputs": [
        {
          "output_type": "stream",
          "text": [
            "1563/1563 [==============================] - 7s 4ms/step - loss: 76.6683 - accuracy: 0.0143 - val_loss: 76.7157 - val_accuracy: 0.0166\n"
          ],
          "name": "stdout"
        },
        {
          "output_type": "execute_result",
          "data": {
            "text/plain": [
              "<tensorflow.python.keras.callbacks.History at 0x7f9b3037fc18>"
            ]
          },
          "metadata": {
            "tags": []
          },
          "execution_count": 193
        }
      ]
    },
    {
      "cell_type": "code",
      "metadata": {
        "id": "L9SOX-809tLL"
      },
      "source": [
        "hue_decoded = autoencoder.predict(X_test_hue)"
      ],
      "execution_count": null,
      "outputs": []
    },
    {
      "cell_type": "code",
      "metadata": {
        "id": "DI5pZ2cMb8cq",
        "outputId": "b0145ec2-d95d-4f43-8646-e41ea8b42ecd",
        "colab": {
          "base_uri": "https://localhost:8080/"
        }
      },
      "source": [
        "autoencoder.fit(X_train_value, X_train_value, validation_data=(X_test_value, X_test_value), epochs = 1, batch_size = 32)"
      ],
      "execution_count": null,
      "outputs": [
        {
          "output_type": "stream",
          "text": [
            "1563/1563 [==============================] - 7s 4ms/step - loss: 141.1723 - accuracy: 0.0021 - val_loss: 141.5457 - val_accuracy: 0.0022\n"
          ],
          "name": "stdout"
        },
        {
          "output_type": "execute_result",
          "data": {
            "text/plain": [
              "<tensorflow.python.keras.callbacks.History at 0x7f9b262caf98>"
            ]
          },
          "metadata": {
            "tags": []
          },
          "execution_count": 195
        }
      ]
    },
    {
      "cell_type": "code",
      "metadata": {
        "id": "swGFozj1hO_g"
      },
      "source": [
        "value_decoded = autoencoder.predict(X_test_value)"
      ],
      "execution_count": null,
      "outputs": []
    },
    {
      "cell_type": "code",
      "metadata": {
        "id": "9mYnXTz8iZ23"
      },
      "source": [
        "# X_train_hue = X_train_hue.astype('float32')*360\n",
        "# X_test_hue = X_test_hue.astype('float32')*360\n",
        "# X_train_value = X_train_value.astype('float32')*100\n",
        "# X_test_value = X_test_value.astype('float32')*100"
      ],
      "execution_count": null,
      "outputs": []
    },
    {
      "cell_type": "code",
      "metadata": {
        "id": "P5UdSHZaDNPP",
        "outputId": "9a6f4791-c86f-43a0-d339-3c9eca064ece",
        "colab": {
          "base_uri": "https://localhost:8080/"
        }
      },
      "source": [
        "print(value_decoded.shape);\n",
        "print(hue_decoded.shape);\n",
        "print(X_test_saturation.shape);"
      ],
      "execution_count": null,
      "outputs": [
        {
          "output_type": "stream",
          "text": [
            "(10000, 32, 32, 1)\n",
            "(10000, 32, 32, 1)\n",
            "(10000, 32, 32)\n"
          ],
          "name": "stdout"
        }
      ]
    },
    {
      "cell_type": "code",
      "metadata": {
        "id": "Zp7cERF-IzyO"
      },
      "source": [
        "X_test_saturation.reshape(10000, 32, 32)\n",
        "hue_decoded = hue_decoded.reshape(10000, 32, 32)\n",
        "value_decoded = value_decoded.reshape(10000, 32, 32)"
      ],
      "execution_count": 36,
      "outputs": []
    },
    {
      "cell_type": "code",
      "metadata": {
        "id": "J2f2WvndDjzL",
        "outputId": "ef31c707-7fb0-4332-87b3-8fdb2fbfd26f",
        "colab": {
          "base_uri": "https://localhost:8080/"
        }
      },
      "source": [
        "print(value_decoded.shape);\n",
        "print(hue_decoded.shape);\n",
        "print(X_test_saturation.shape);"
      ],
      "execution_count": 37,
      "outputs": [
        {
          "output_type": "stream",
          "text": [
            "(10000, 32, 32)\n",
            "(10000, 32, 32)\n",
            "(10000, 32, 32)\n"
          ],
          "name": "stdout"
        }
      ]
    },
    {
      "cell_type": "code",
      "metadata": {
        "id": "TlzNxihn-9h8"
      },
      "source": [
        "example_image = [hue_decoded[0], X_test_saturation[0], value_decoded[0]]"
      ],
      "execution_count": 57,
      "outputs": []
    },
    {
      "cell_type": "code",
      "metadata": {
        "id": "Lc462L-nIiCD"
      },
      "source": [
        "example_image= np.array(example_image)"
      ],
      "execution_count": 59,
      "outputs": []
    },
    {
      "cell_type": "code",
      "metadata": {
        "id": "EywI6B0oP7dP"
      },
      "source": [
        "example_image = np.transpose(example_image, (1, 2, 0))"
      ],
      "execution_count": 61,
      "outputs": []
    },
    {
      "cell_type": "code",
      "metadata": {
        "id": "vtEnw0AiQQnl",
        "outputId": "a48d8139-aa90-4281-d5db-8374847b3d0d",
        "colab": {
          "base_uri": "https://localhost:8080/",
          "height": 301
        }
      },
      "source": [
        "plt.imshow(example_image)"
      ],
      "execution_count": 64,
      "outputs": [
        {
          "output_type": "stream",
          "text": [
            "Clipping input data to the valid range for imshow with RGB data ([0..1] for floats or [0..255] for integers).\n"
          ],
          "name": "stderr"
        },
        {
          "output_type": "execute_result",
          "data": {
            "text/plain": [
              "<matplotlib.image.AxesImage at 0x7f873cbf5828>"
            ]
          },
          "metadata": {
            "tags": []
          },
          "execution_count": 64
        },
        {
          "output_type": "display_data",
          "data": {
            "image/png": "[encoded data removed]",
            "text/plain": [
              "<Figure size 432x288 with 1 Axes>"
            ]
          },
          "metadata": {
            "tags": [],
            "needs_background": "light"
          }
        }
      ]
    },
    {
      "cell_type": "code",
      "metadata": {
        "id": "98n3Ca86Qyks"
      },
      "source": [
        "decoded = np.array([hue_decoded, X_test_saturation, value_decoded])"
      ],
      "execution_count": 65,
      "outputs": []
    },
    {
      "cell_type": "code",
      "metadata": {
        "id": "EyMZujI8ROY4"
      },
      "source": [
        "decoded = np.transpose(decoded, (1, 2, 3, 0))"
      ],
      "execution_count": 67,
      "outputs": []
    }
  ]
}